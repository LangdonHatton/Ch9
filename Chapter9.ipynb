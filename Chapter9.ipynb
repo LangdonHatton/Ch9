{
 "cells": [
  {
   "cell_type": "markdown",
   "id": "4ef4485e",
   "metadata": {},
   "source": [
    "# Ch9 Classes"
   ]
  },
  {
   "cell_type": "markdown",
   "id": "7b465366",
   "metadata": {},
   "source": [
    "### Python is an object oriented programming language.\n",
    "- Almost everything in Python is an object, with its properties and methods (Functions).\n",
    "- A Class is like an object constructor, or a \"blueprint\" for creating objects."
   ]
  },
  {
   "cell_type": "code",
   "execution_count": 1,
   "id": "741b88de",
   "metadata": {},
   "outputs": [
    {
     "name": "stdout",
     "output_type": "stream",
     "text": [
      "Angle\n",
      "Hill\n",
      "Employee full name : Angle Hill\n",
      "Employee full name : Peter White\n"
     ]
    }
   ],
   "source": [
    "class Employee():\n",
    "    #init is the constructor of the class\n",
    "    # self is used to represent the instance of a class\n",
    "    def __init__(self, first, last, age, dept): #method/function\n",
    "        self.first=first.title()\n",
    "        self.last=last.title()\n",
    "        self.age=age\n",
    "        self.dept=dept.title()\n",
    "    def fullname(self):\n",
    "        return f'Employee full name : {self.first} {self.last}'\n",
    "emp_1=Employee('angle', 'hill',32,'accounting')\n",
    "emp_2=Employee('peter','white', 35, 'finance')\n",
    "print(emp_1.first)\n",
    "print(emp_1.last)\n",
    "print(emp_1.fullname())\n",
    "print(emp_2.fullname())"
   ]
  },
  {
   "cell_type": "code",
   "execution_count": null,
   "id": "a9136cf8",
   "metadata": {},
   "outputs": [],
   "source": []
  },
  {
   "cell_type": "markdown",
   "id": "5d60f7c0",
   "metadata": {},
   "source": [
    "### Creating the Dog Class\n",
    "Each instance created from the Dog class will store a name and an age, and we’ll give each dog the ability to sit() and roll_over():"
   ]
  },
  {
   "cell_type": "code",
   "execution_count": 2,
   "id": "6e84155c",
   "metadata": {},
   "outputs": [],
   "source": [
    "class Dog():\n",
    "    def __init__(self, name, age):\n",
    "        self.name=name\n",
    "        self.age=age\n",
    "        \n",
    "    def sit(self):\n",
    "        print(f'{self.name} is now sitting')\n",
    "    def rollover(self):\n",
    "        print(f'{self.name} is now rolling over')\n",
    "    "
   ]
  },
  {
   "cell_type": "code",
   "execution_count": 3,
   "id": "3c70e9c0",
   "metadata": {},
   "outputs": [],
   "source": [
    "dog1=Dog('Shelby', 5)\n",
    "dog2=Dog('Bradley', 2)\n",
    "\n",
    "\n"
   ]
  },
  {
   "cell_type": "code",
   "execution_count": 4,
   "id": "23eaab43",
   "metadata": {},
   "outputs": [
    {
     "name": "stdout",
     "output_type": "stream",
     "text": [
      "Bradley\n",
      "2\n",
      "Shelby\n",
      "5\n",
      "Shelby is now sitting\n",
      "Bradley is now rolling over\n"
     ]
    }
   ],
   "source": [
    "print(dog2.name)\n",
    "print(dog2.age)\n",
    "print(dog1.name)\n",
    "print(dog1.age)\n",
    "dog1.sit()\n",
    "dog2.rollover()"
   ]
  },
  {
   "cell_type": "markdown",
   "id": "8bbcc5c0",
   "metadata": {},
   "source": [
    "#### Note:\n",
    "- By convention, capitalized names refer to classes in Python. \n",
    "- The parentheses in the class definition are empty because we’re creating this class from scratch.\n",
    "- All classes have a function called __init__(), which is always executed when the class is being initiated.\n",
    "- Use the __init__() function to assign values to object properties, or other operations that are necessary to do when the object is being created\n",
    "- Any variable prefixed with `self` is available to every method in the class, and we’ll also be able to access these variables through any instance created from the class.\n",
    "- The Dog class has two other methods defined: sit() and roll_over().Because these methods don’t need additional information like a name or age, we just define them to have one parameter, self."
   ]
  },
  {
   "cell_type": "markdown",
   "id": "402f0696",
   "metadata": {},
   "source": [
    "### Restaurant: Make a class called Restaurant. The __init__() method for Restaurant should store two attributes: a restaurant_name and a cuisine_type.\n",
    "- Make a method called `describe_restaurant()` that prints name of teh restrurent and the cuisine type\n",
    "- and a method called open_restaurant() that prints a message indicating that the restaurant is open.\n",
    "- Make an instance called restaurant from your class. Print the two attributes individually, and then call both methods.\n"
   ]
  },
  {
   "cell_type": "code",
   "execution_count": 5,
   "id": "c4316b2d",
   "metadata": {},
   "outputs": [],
   "source": [
    "class Restaurant():\n",
    "    def __init__(self, name, cuisine, hours):\n",
    "        self.name=name\n",
    "        self.cuisine=cuisine\n",
    "        self.hours=hours\n",
    "    def describe_restaurant(self):\n",
    "        print(f'{self.name} serves {self.cuisine}')\n",
    "    def open_restuarant(self):\n",
    "        print(f'{self.name} is {self.hours}')\n",
    "rest1=Restaurant('Burger King', 'fast food', 'open 24 hours')\n",
    "rest2=Restaurant('Papa Johns', 'pizza', 'open from 12 to 12')\n",
    "rest3=Restaurant('Palio', 'everything','all day')\n",
    "    "
   ]
  },
  {
   "cell_type": "markdown",
   "id": "8b4a4fca",
   "metadata": {},
   "source": [
    "### - Create three different instances from the class, and call describe_restaurant() for each instance."
   ]
  },
  {
   "cell_type": "code",
   "execution_count": 6,
   "id": "f9be3f46",
   "metadata": {},
   "outputs": [
    {
     "name": "stdout",
     "output_type": "stream",
     "text": [
      "Burger King serves fast food\n",
      "Papa Johns serves pizza\n",
      "Palio serves everything\n",
      "Burger King is open 24 hours\n",
      "Papa Johns is open from 12 to 12\n",
      "Palio is all day\n"
     ]
    }
   ],
   "source": [
    "rest1.describe_restaurant()\n",
    "rest2.describe_restaurant()\n",
    "rest3.describe_restaurant()\n",
    "rest1.open_restuarant()\n",
    "rest2.open_restuarant()\n",
    "rest3.open_restuarant()"
   ]
  },
  {
   "cell_type": "code",
   "execution_count": null,
   "id": "b3845fe0",
   "metadata": {},
   "outputs": [],
   "source": []
  },
  {
   "cell_type": "code",
   "execution_count": null,
   "id": "e6aa8a33",
   "metadata": {},
   "outputs": [],
   "source": []
  },
  {
   "cell_type": "code",
   "execution_count": null,
   "id": "6b24e6f1",
   "metadata": {},
   "outputs": [],
   "source": []
  },
  {
   "cell_type": "markdown",
   "id": "8f4032c6",
   "metadata": {},
   "source": [
    "### Users: Make a class called User. Create attributes called first_name and last_name, username, location \n",
    "- Make a method called describe_user() that prints a summary of the user’s information. \n",
    "- Make another method called greet_user() that prints a personalized greeting to the user.\n",
    "- Create several instances representing different users, and call both methods for each user."
   ]
  },
  {
   "cell_type": "code",
   "execution_count": 7,
   "id": "dda94ce2",
   "metadata": {},
   "outputs": [
    {
     "name": "stdout",
     "output_type": "stream",
     "text": [
      "The users name is JohnJones,and their username is JJones. The user is from Kentucky\n",
      "Hi JJones. Welcome back!\n",
      "The users name is BillSmith,and their username is BillyS. The user is from Indiana\n",
      "Hi BillyS. Welcome back!\n",
      "The users name is LisaKerns,and their username is KernsL. The user is from Ohio\n",
      "Hi KernsL. Welcome back!\n"
     ]
    }
   ],
   "source": [
    "class User():\n",
    "    def __init__(self, first, last, username, location):\n",
    "        self.first=first.title()\n",
    "        self.last=last.title()\n",
    "        self.username=username\n",
    "        self.location=location\n",
    "    def describe_user(self):\n",
    "        print(f'The users name is {self.first}{self.last},and their username is {self.username}. The user is from {self.location}')\n",
    "    def greet_user(self):\n",
    "        print(f'Hi {self.username}. Welcome back!')\n",
    "user1=User('John','Jones','JJones','Kentucky')\n",
    "user2=User('Bill','Smith', 'BillyS', 'Indiana')\n",
    "user3=User('Lisa','Kerns', 'KernsL', 'Ohio')\n",
    "\n",
    "user1.describe_user()\n",
    "user1.greet_user()\n",
    "user2.describe_user()\n",
    "user2.greet_user()\n",
    "user3.describe_user()\n",
    "user3.greet_user()\n",
    "    \n",
    "    \n",
    "    \n",
    "    "
   ]
  },
  {
   "cell_type": "code",
   "execution_count": null,
   "id": "8864d617",
   "metadata": {},
   "outputs": [],
   "source": []
  },
  {
   "cell_type": "markdown",
   "id": "8b5bfff2",
   "metadata": {},
   "source": [
    "## Setting a Default Value for an Attribute"
   ]
  },
  {
   "cell_type": "code",
   "execution_count": 33,
   "id": "bbdc7a10",
   "metadata": {},
   "outputs": [],
   "source": [
    "class car():\n",
    "    def __init__(self, make, model, year):\n",
    "        self.make=make\n",
    "        self.model=model\n",
    "        self.year=year\n",
    "        self.odometer_reading=100\n",
    "        \n",
    "    def get_descriptive_name(self):\n",
    "        long_name= str(self.year)+' '+(self.make)+' '+(self.model)\n",
    "        return long_name.title()\n",
    "\n",
    "    def read_odometer(self):\n",
    "        print(f'This car has {self.odometer_reading} miles on it')\n",
    "    \n",
    "    def update_odometer(self, mileage):\n",
    "        self.odometer_reading+=mileage\n",
    "        "
   ]
  },
  {
   "cell_type": "code",
   "execution_count": 37,
   "id": "35859896",
   "metadata": {},
   "outputs": [
    {
     "data": {
      "text/plain": [
       "'2012 Toyota Tundra'"
      ]
     },
     "execution_count": 37,
     "metadata": {},
     "output_type": "execute_result"
    }
   ],
   "source": [
    "my_car=car('Toyota', 'Tundra', 2012)\n",
    "my_car.get_descriptive_name()\n"
   ]
  },
  {
   "cell_type": "code",
   "execution_count": 38,
   "id": "9ea6316b",
   "metadata": {},
   "outputs": [
    {
     "name": "stdout",
     "output_type": "stream",
     "text": [
      "This car has 100 miles on it\n"
     ]
    }
   ],
   "source": [
    "my_car.read_odometer()"
   ]
  },
  {
   "cell_type": "code",
   "execution_count": 39,
   "id": "63d96230",
   "metadata": {},
   "outputs": [
    {
     "name": "stdout",
     "output_type": "stream",
     "text": [
      "This car has 140 miles on it\n"
     ]
    }
   ],
   "source": [
    "my_car.update_odometer(40)\n",
    "my_car.read_odometer()"
   ]
  },
  {
   "cell_type": "markdown",
   "id": "946005fb",
   "metadata": {},
   "source": [
    "#### Modifying an Attribute’s Value Directly"
   ]
  },
  {
   "cell_type": "code",
   "execution_count": null,
   "id": "6f8fa540",
   "metadata": {},
   "outputs": [],
   "source": []
  },
  {
   "cell_type": "code",
   "execution_count": null,
   "id": "2f382418",
   "metadata": {},
   "outputs": [],
   "source": []
  },
  {
   "cell_type": "markdown",
   "id": "27f8f244",
   "metadata": {},
   "source": [
    "### Modifying an Attribute’s Value Through a Method"
   ]
  },
  {
   "cell_type": "code",
   "execution_count": null,
   "id": "9b3ae956",
   "metadata": {},
   "outputs": [],
   "source": []
  },
  {
   "cell_type": "code",
   "execution_count": null,
   "id": "3c3c57c2",
   "metadata": {},
   "outputs": [],
   "source": []
  },
  {
   "cell_type": "markdown",
   "id": "fd560131",
   "metadata": {},
   "source": [
    "### Incrementing an Attribute’s Value Through a Method"
   ]
  },
  {
   "cell_type": "code",
   "execution_count": null,
   "id": "8d76b884",
   "metadata": {},
   "outputs": [],
   "source": []
  },
  {
   "cell_type": "code",
   "execution_count": null,
   "id": "1500c7e7",
   "metadata": {},
   "outputs": [],
   "source": []
  },
  {
   "cell_type": "markdown",
   "id": "b96f0d18",
   "metadata": {},
   "source": [
    "# Inheritance\n",
    "- You don’t always have to start from scratch when writing a class. If the class you’re writing is a specialized version of another class you wrote, you can use inheritance. \n",
    "- When one class inherits from another, it automatically takes on all the attributes and methods of the first class. The original class is called the `parent class`, and the new class is the `child class`. \n",
    "- The child class inherits every attribute and method from its parent class but is also free to define new attributes and methods of its own."
   ]
  },
  {
   "cell_type": "markdown",
   "id": "813faf6e",
   "metadata": {},
   "source": [
    "## Parent class"
   ]
  },
  {
   "cell_type": "code",
   "execution_count": 1,
   "id": "5b7c3efd",
   "metadata": {},
   "outputs": [],
   "source": [
    "class car():\n",
    "    def __init__(self, make, model, year):\n",
    "        self.make=make\n",
    "        self.model=model\n",
    "        self.year=year\n",
    "        self.odometer_reading=100\n",
    "        \n",
    "    def get_descriptive_name(self):\n",
    "        long_name= str(self.year)+' '+(self.make)+' '+(self.model)\n",
    "        return long_name.title()\n",
    "\n",
    "    def read_odometer(self):\n",
    "        print(f'This car has {self.odometer_reading} miles on it')\n",
    "    \n",
    "    def update_odometer(self, mileage):\n",
    "        self.odometer_reading+=mileage"
   ]
  },
  {
   "cell_type": "markdown",
   "id": "88bc22e1",
   "metadata": {},
   "source": [
    "## Child class"
   ]
  },
  {
   "cell_type": "code",
   "execution_count": 2,
   "id": "34de9649",
   "metadata": {},
   "outputs": [],
   "source": [
    "class ElectricCar(car):\n",
    "    def __init__(self,make,model,year):\n",
    "        super().__init__(make,model,year) # it inherits the parent class attributes\n",
    "        "
   ]
  },
  {
   "cell_type": "code",
   "execution_count": 4,
   "id": "e89121c9",
   "metadata": {},
   "outputs": [
    {
     "name": "stdout",
     "output_type": "stream",
     "text": [
      "2021 Tesla Model X\n"
     ]
    }
   ],
   "source": [
    "My_Tesla=ElectricCar('Tesla', 'Model x', 2021)\n",
    "print(My_Tesla.get_descriptive_name())"
   ]
  },
  {
   "cell_type": "markdown",
   "id": "5b594c20",
   "metadata": {},
   "source": [
    "### Practice: Create a class named Person, with firstname and lastname properties, and a printname method:"
   ]
  },
  {
   "cell_type": "code",
   "execution_count": 12,
   "id": "681edaaf",
   "metadata": {},
   "outputs": [],
   "source": [
    "class person():\n",
    "    def __init__(self,fname, lname):\n",
    "        self.fname=fname\n",
    "        self.lname=lname\n",
    "    def printname(self):\n",
    "        printname= str(self.fname.title())+ \" \" + (self.lname.title()) +' ' +\"is their full name.\"\n",
    "        return printname\n",
    "    "
   ]
  },
  {
   "cell_type": "code",
   "execution_count": 13,
   "id": "9d3a0e56",
   "metadata": {},
   "outputs": [
    {
     "name": "stdout",
     "output_type": "stream",
     "text": [
      "Langdon Hatton is their full name.\n",
      "John Smith is their full name.\n"
     ]
    }
   ],
   "source": [
    "person1=person('Langdon', 'Hatton')\n",
    "person2=person('John', 'Smith')\n",
    "\n",
    "print(person1.printname())\n",
    "print(person2.printname())"
   ]
  },
  {
   "cell_type": "code",
   "execution_count": null,
   "id": "b75d7a0a",
   "metadata": {},
   "outputs": [],
   "source": []
  },
  {
   "cell_type": "markdown",
   "id": "a8023470",
   "metadata": {},
   "source": [
    "### Create child classes called Student using Inheritance contains the first and last name and the graduation year \n",
    "- Add a method called `welcome` that prints the student graduation year\n",
    "- Test the student method for two students"
   ]
  },
  {
   "cell_type": "code",
   "execution_count": 14,
   "id": "8a1571d5",
   "metadata": {},
   "outputs": [],
   "source": [
    "class student(person):\n",
    "    def __init__(self, fname, lname, gradyear):\n",
    "        super().__init__(fname,lname)\n",
    "        self.gradyear=gradyear\n",
    "        \n",
    "    def welcome(self):\n",
    "        print(f'Welcome, {self.fname} {self.lname} to the class of {self.gradyear}')"
   ]
  },
  {
   "cell_type": "code",
   "execution_count": 16,
   "id": "5816f6a4",
   "metadata": {},
   "outputs": [
    {
     "name": "stdout",
     "output_type": "stream",
     "text": [
      "Welcome, Langdon Hatton to the class of 2025\n",
      "Welcome, Lilly Hatton to the class of 2023\n"
     ]
    }
   ],
   "source": [
    "student1=student(\"Langdon\", 'Hatton', 2025)\n",
    "student2=student('Lilly', 'Hatton', 2023)\n",
    "student1.welcome()\n",
    "student2.welcome()"
   ]
  },
  {
   "cell_type": "markdown",
   "id": "741a798d",
   "metadata": {},
   "source": [
    "## create a rectangle and square class and create methods for calculating the area and perimeter"
   ]
  },
  {
   "cell_type": "code",
   "execution_count": 28,
   "id": "94b5675b",
   "metadata": {},
   "outputs": [],
   "source": [
    "class rectangle():\n",
    "    def __init__(self, length, width):\n",
    "        self.length=length\n",
    "        self.width=width\n",
    "    \n",
    "    def perirect(self):\n",
    "        p=(2*self.length)+(2*self.width)\n",
    "        return 'The perimiter is' +' '+ str(p)\n",
    "   \n",
    "    def arear(self): \n",
    "        a=self.length*self.width\n",
    "        return 'The area is'+ ' '+ str(a)"
   ]
  },
  {
   "cell_type": "code",
   "execution_count": 29,
   "id": "197d6df1",
   "metadata": {},
   "outputs": [
    {
     "name": "stdout",
     "output_type": "stream",
     "text": [
      "The area is 8\n",
      "The perimiter is 12\n"
     ]
    }
   ],
   "source": [
    "rec1=rectangle(2,4)\n",
    "print(rec1.arear())\n",
    "print(rec1.perirect())"
   ]
  },
  {
   "cell_type": "code",
   "execution_count": 31,
   "id": "cfb71434",
   "metadata": {},
   "outputs": [],
   "source": [
    "class square():\n",
    "    def __init__(self, side):\n",
    "        self.side=side\n",
    "    def areas(self):\n",
    "        s=self.side*self.side\n",
    "        return(f'The area of the square is {s}')\n",
    "    def peris(self):\n",
    "        pe=4*self.side\n",
    "        return(f'The perimeter of the square is {pe}')"
   ]
  },
  {
   "cell_type": "code",
   "execution_count": 33,
   "id": "b511e3aa",
   "metadata": {},
   "outputs": [
    {
     "name": "stdout",
     "output_type": "stream",
     "text": [
      "The area of the square is 4\n",
      "The perimeter of the square is 8\n"
     ]
    }
   ],
   "source": [
    "square1=square(2)\n",
    "print(square1.areas())\n",
    "print(square1.peris())"
   ]
  },
  {
   "cell_type": "markdown",
   "id": "605144d4",
   "metadata": {},
   "source": [
    "## Use inheritance to create a square class from parent class"
   ]
  },
  {
   "cell_type": "code",
   "execution_count": 34,
   "id": "b202995c",
   "metadata": {},
   "outputs": [],
   "source": [
    "class squarez(rectangle):\n",
    "    def __init__(self, length):\n",
    "        super().__init__(length, length)\n",
    "    "
   ]
  },
  {
   "cell_type": "code",
   "execution_count": 38,
   "id": "5e9b3353",
   "metadata": {},
   "outputs": [
    {
     "name": "stdout",
     "output_type": "stream",
     "text": [
      "The area is 16\n",
      "The perimiter is 16\n"
     ]
    }
   ],
   "source": [
    "square5=squarez(4)\n",
    "print(square5.arear())\n",
    "print(square5.perirect())"
   ]
  },
  {
   "cell_type": "code",
   "execution_count": null,
   "id": "236432de",
   "metadata": {},
   "outputs": [],
   "source": []
  },
  {
   "cell_type": "code",
   "execution_count": null,
   "id": "cb8fb91f",
   "metadata": {},
   "outputs": [],
   "source": []
  },
  {
   "cell_type": "code",
   "execution_count": null,
   "id": "a42a833f",
   "metadata": {},
   "outputs": [],
   "source": []
  },
  {
   "cell_type": "code",
   "execution_count": null,
   "id": "813abbf1",
   "metadata": {},
   "outputs": [],
   "source": []
  },
  {
   "cell_type": "code",
   "execution_count": null,
   "id": "65e28ed6",
   "metadata": {},
   "outputs": [],
   "source": []
  },
  {
   "cell_type": "markdown",
   "id": "3bdcfd1c",
   "metadata": {},
   "source": [
    "## Create a simple calculator using classes"
   ]
  },
  {
   "cell_type": "code",
   "execution_count": 8,
   "id": "6ab4b4b1",
   "metadata": {},
   "outputs": [
    {
     "name": "stdout",
     "output_type": "stream",
     "text": [
      "Choose from the following options: \n",
      "1. Addition\n",
      "2. Subtraction\n",
      "3. Multiplication\n",
      "4. Division\n",
      "5. Exit\n",
      "Enter your choice (1-5)5\n"
     ]
    }
   ],
   "source": [
    "class calc():\n",
    "    def __init__(self, input1, input2):\n",
    "        self.input1=input1\n",
    "        self.input2=input2\n",
    "   \n",
    "    def addition(num1, num2):\n",
    "        print(f'Addition= {num1+num2}')\n",
    "        \n",
    "    def sub(num1,num2):\n",
    "        print(f'Subtraction= {num1-num2}')\n",
    "        \n",
    "    def mult(num1,num2):\n",
    "        print(f'Multiplication={num1*num2}')\n",
    "    \n",
    "    def div(num1,num2):\n",
    "        print(f'Division= {num1/num2}')\n",
    "\n",
    "while True:\n",
    "    print('Choose from the following options: ')\n",
    "    print('1. Addition')\n",
    "    print('2. Subtraction')\n",
    "    print('3. Multiplication')\n",
    "    print('4. Division')\n",
    "    print('5. Exit')\n",
    "    \n",
    "    choice=int(input('Enter your choice (1-5)'))\n",
    "    \n",
    "    if choice==1:\n",
    "        num1=int(input('Enter your first number'))\n",
    "        num2=int(input('Enter your second number'))\n",
    "        calc.addition(num1,num2)\n",
    "    \n",
    "    elif choice==2:\n",
    "        num1=int(input('Enter your first number'))\n",
    "        num2=int(input('Enter your second number'))\n",
    "        calc.sub(num1,num2)\n",
    "    elif choice==3:\n",
    "        num1=int(input('Enter your first number'))\n",
    "        num2=int(input('Enter your second number'))\n",
    "        calc.mult(num1,num2)\n",
    "    elif choice==4:\n",
    "        num1=int(input('Enter your first number'))\n",
    "        num2=int(input('Enter your second number'))\n",
    "        if num2==0:\n",
    "            print('Infinity')\n",
    "        else:\n",
    "            calc.div(num1,num2)\n",
    "    elif choice==5:\n",
    "        break\n",
    "    else:\n",
    "        print('wrong choice')\n",
    "        "
   ]
  },
  {
   "cell_type": "code",
   "execution_count": null,
   "id": "a7a954a0",
   "metadata": {},
   "outputs": [],
   "source": []
  },
  {
   "cell_type": "code",
   "execution_count": null,
   "id": "39c3dee9",
   "metadata": {},
   "outputs": [],
   "source": []
  },
  {
   "cell_type": "markdown",
   "id": "0ec161b5",
   "metadata": {},
   "source": [
    "## ATM machine "
   ]
  },
  {
   "cell_type": "code",
   "execution_count": 10,
   "id": "267c3e25",
   "metadata": {},
   "outputs": [],
   "source": [
    "class ATM:\n",
    "    def __init__(self):\n",
    "        self.balance=0\n",
    "        print('Hello, welcome to the ATM machine')\n",
    "    \n",
    "    def deposit(self):\n",
    "        amount=float(input('Enter amount to be deposited: '))\n",
    "        self.balance+=amount\n",
    "        print('The amount deposited:', amount)\n",
    "   \n",
    "    def withdraw(self):\n",
    "        amount=float(input('Enter how much you would like to withdraw: '))\n",
    "        if self.balance>=amount:\n",
    "            self.balance-=amount\n",
    "            print('You have withdraw:' , amount)\n",
    "        else:\n",
    "            print('Insufficient funds')\n",
    "        \n",
    "    def display(self):\n",
    "        print('The available balance is', self.balance)"
   ]
  },
  {
   "cell_type": "code",
   "execution_count": 11,
   "id": "a6e40459",
   "metadata": {},
   "outputs": [
    {
     "name": "stdout",
     "output_type": "stream",
     "text": [
      "Hello, welcome to the ATM machine\n",
      "Enter amount to be deposited: 500\n",
      "The amount deposited: 500.0\n"
     ]
    }
   ],
   "source": [
    "my_account=ATM()\n",
    "my_account.deposit()"
   ]
  },
  {
   "cell_type": "code",
   "execution_count": 13,
   "id": "5349965d",
   "metadata": {},
   "outputs": [
    {
     "name": "stdout",
     "output_type": "stream",
     "text": [
      "The available balance is 500.0\n"
     ]
    }
   ],
   "source": [
    "my_account.display()"
   ]
  },
  {
   "cell_type": "code",
   "execution_count": 14,
   "id": "31c603e0",
   "metadata": {},
   "outputs": [
    {
     "name": "stdout",
     "output_type": "stream",
     "text": [
      "Enter amount to be deposited: 1000\n",
      "The amount deposited: 1000.0\n"
     ]
    }
   ],
   "source": [
    "my_account.deposit()"
   ]
  },
  {
   "cell_type": "code",
   "execution_count": 15,
   "id": "a6dab545",
   "metadata": {},
   "outputs": [
    {
     "name": "stdout",
     "output_type": "stream",
     "text": [
      "The available balance is 1500.0\n"
     ]
    }
   ],
   "source": [
    "my_account.display()"
   ]
  },
  {
   "cell_type": "code",
   "execution_count": 16,
   "id": "7ec97634",
   "metadata": {},
   "outputs": [
    {
     "name": "stdout",
     "output_type": "stream",
     "text": [
      "Enter how much you would like to withdraw: 1490\n",
      "You have withdraw: 1490.0\n"
     ]
    }
   ],
   "source": [
    "my_account.withdraw()"
   ]
  },
  {
   "cell_type": "code",
   "execution_count": 17,
   "id": "ac99148c",
   "metadata": {},
   "outputs": [
    {
     "name": "stdout",
     "output_type": "stream",
     "text": [
      "The available balance is 10.0\n"
     ]
    }
   ],
   "source": [
    "my_account.display()"
   ]
  },
  {
   "cell_type": "code",
   "execution_count": 18,
   "id": "2a901c72",
   "metadata": {},
   "outputs": [
    {
     "name": "stdout",
     "output_type": "stream",
     "text": [
      "Enter how much you would like to withdraw: 20\n",
      "Insufficient funds\n"
     ]
    }
   ],
   "source": [
    "my_account.withdraw()"
   ]
  },
  {
   "cell_type": "code",
   "execution_count": null,
   "id": "42f154a6",
   "metadata": {},
   "outputs": [],
   "source": []
  }
 ],
 "metadata": {
  "kernelspec": {
   "display_name": "Python 3 (ipykernel)",
   "language": "python",
   "name": "python3"
  },
  "language_info": {
   "codemirror_mode": {
    "name": "ipython",
    "version": 3
   },
   "file_extension": ".py",
   "mimetype": "text/x-python",
   "name": "python",
   "nbconvert_exporter": "python",
   "pygments_lexer": "ipython3",
   "version": "3.9.12"
  }
 },
 "nbformat": 4,
 "nbformat_minor": 5
}
